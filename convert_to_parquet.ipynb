{
 "cells": [
  {
   "metadata": {
    "ExecuteTime": {
     "end_time": "2024-11-17T00:50:38.243672Z",
     "start_time": "2024-11-17T00:50:37.210184Z"
    }
   },
   "cell_type": "code",
   "source": [
    "import pandas as pd\n",
    "\n",
    "# Cargar el archivo CSV\n",
    "csv_file = \"data/input/test_data.csv\"\n",
    "df = pd.read_csv(csv_file)\n",
    "\n",
    "# Guardar el archivo como Parquet\n",
    "parquet_file = \"data/input/test_data.parquet\"\n",
    "df.to_parquet(parquet_file, engine=\"pyarrow\", index=False)\n",
    "\n",
    "print(f\"Archivo convertido y guardado como: {parquet_file}\")"
   ],
   "id": "7645a4014f499f2b",
   "outputs": [
    {
     "name": "stdout",
     "output_type": "stream",
     "text": [
      "Archivo convertido y guardado como: data/input/test_data.parquet\n"
     ]
    }
   ],
   "execution_count": 1
  },
  {
   "metadata": {
    "ExecuteTime": {
     "end_time": "2024-11-16T23:43:49.247364Z",
     "start_time": "2024-11-16T23:43:48.891212Z"
    }
   },
   "cell_type": "code",
   "source": [
    "data = pd.read_parquet(parquet_file)\n",
    "print(data.dtypes)"
   ],
   "id": "123902afc861f86",
   "outputs": [
    {
     "name": "stdout",
     "output_type": "stream",
     "text": [
      "StudentID              int64\n",
      "Age                    int64\n",
      "Gender                 int64\n",
      "Ethnicity              int64\n",
      "ParentalEducation      int64\n",
      "StudyTimeWeekly      float64\n",
      "Absences               int64\n",
      "Tutoring               int64\n",
      "ParentalSupport        int64\n",
      "Extracurricular        int64\n",
      "Sports                 int64\n",
      "Music                  int64\n",
      "Volunteering           int64\n",
      "GPA                  float64\n",
      "GradeClass           float64\n",
      "dtype: object\n"
     ]
    }
   ],
   "execution_count": 4
  },
  {
   "metadata": {
    "ExecuteTime": {
     "end_time": "2024-11-16T23:44:40.247766Z",
     "start_time": "2024-11-16T23:44:40.238572Z"
    }
   },
   "cell_type": "code",
   "source": "data['Gender']",
   "id": "ea2d8b30821a5591",
   "outputs": [
    {
     "data": {
      "text/plain": [
       "0       1\n",
       "1       0\n",
       "2       0\n",
       "3       1\n",
       "4       1\n",
       "       ..\n",
       "2387    1\n",
       "2388    0\n",
       "2389    1\n",
       "2390    1\n",
       "2391    1\n",
       "Name: Gender, Length: 2392, dtype: int64"
      ]
     },
     "execution_count": 6,
     "metadata": {},
     "output_type": "execute_result"
    }
   ],
   "execution_count": 6
  },
  {
   "metadata": {},
   "cell_type": "code",
   "outputs": [],
   "execution_count": null,
   "source": "",
   "id": "c11e9ac94428b0ef"
  }
 ],
 "metadata": {
  "kernelspec": {
   "display_name": "Python 3",
   "language": "python",
   "name": "python3"
  },
  "language_info": {
   "codemirror_mode": {
    "name": "ipython",
    "version": 2
   },
   "file_extension": ".py",
   "mimetype": "text/x-python",
   "name": "python",
   "nbconvert_exporter": "python",
   "pygments_lexer": "ipython2",
   "version": "2.7.6"
  }
 },
 "nbformat": 4,
 "nbformat_minor": 5
}
